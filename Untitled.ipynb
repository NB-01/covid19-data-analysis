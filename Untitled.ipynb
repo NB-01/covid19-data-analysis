{
 "cells": [
  {
   "cell_type": "code",
   "execution_count": 9,
   "id": "b9a71b79",
   "metadata": {},
   "outputs": [
    {
     "ename": "ModuleNotFoundError",
     "evalue": "No module named 'fbprophet'",
     "output_type": "error",
     "traceback": [
      "\u001b[0;31m---------------------------------------------------------------------------\u001b[0m",
      "\u001b[0;31mModuleNotFoundError\u001b[0m                       Traceback (most recent call last)",
      "\u001b[0;32m/var/folders/fy/7mfyb97n7q12tbfy_b8cwnwr0000gn/T/ipykernel_2087/2426369683.py\u001b[0m in \u001b[0;36m<module>\u001b[0;34m\u001b[0m\n\u001b[1;32m      1\u001b[0m \u001b[0;32mimport\u001b[0m \u001b[0mpandas\u001b[0m \u001b[0;32mas\u001b[0m \u001b[0mpd\u001b[0m\u001b[0;34m\u001b[0m\u001b[0;34m\u001b[0m\u001b[0m\n\u001b[1;32m      2\u001b[0m \u001b[0;32mimport\u001b[0m \u001b[0mplotly\u001b[0m\u001b[0;34m.\u001b[0m\u001b[0mexpress\u001b[0m \u001b[0;32mas\u001b[0m \u001b[0mpx\u001b[0m\u001b[0;34m\u001b[0m\u001b[0;34m\u001b[0m\u001b[0m\n\u001b[0;32m----> 3\u001b[0;31m \u001b[0;32mfrom\u001b[0m \u001b[0mfbprophet\u001b[0m \u001b[0;32mimport\u001b[0m \u001b[0mProphet\u001b[0m\u001b[0;34m\u001b[0m\u001b[0;34m\u001b[0m\u001b[0m\n\u001b[0m\u001b[1;32m      4\u001b[0m \u001b[0;32mfrom\u001b[0m \u001b[0msklearn\u001b[0m\u001b[0;34m.\u001b[0m\u001b[0mmetrics\u001b[0m \u001b[0;32mimport\u001b[0m \u001b[0mmean_squared_error\u001b[0m\u001b[0;34m\u001b[0m\u001b[0;34m\u001b[0m\u001b[0m\n\u001b[1;32m      5\u001b[0m \u001b[0;34m\u001b[0m\u001b[0m\n",
      "\u001b[0;31mModuleNotFoundError\u001b[0m: No module named 'fbprophet'"
     ]
    }
   ],
   "source": [
    "import pandas as pd\n",
    "import plotly.express as px\n",
    "from fbprophet import Prophet\n",
    "from sklearn.metrics import mean_squared_error\n",
    "\n",
    "# Load the dataset\n",
    "file_path = 'path_to_your_file/excess-mortality-p-scores-projected-baseline.csv'  # Replace with your file path\n",
    "data = pd.read_csv(file_path)\n",
    "\n",
    "# Filter for specific countries\n",
    "countries = ['Switzerland', 'France', 'Germany', 'Italy', 'United States']\n",
    "filtered_data = data[data['Entity'].isin(countries)]\n",
    "\n",
    "# Convert 'Day' to datetime\n",
    "filtered_data['Day'] = pd.to_datetime(filtered_data['Day'])\n",
    "\n",
    "# Plotly Visualization\n",
    "fig = px.line(filtered_data, x='Day', y='p_proj_all_ages', color='Entity', \n",
    "              title='P-Scores Over Time for Selected Countries')\n",
    "fig.show()\n",
    "\n",
    "# Advanced Predictive Analysis with Prophet (example for Switzerland)\n",
    "switzerland_data = filtered_data[filtered_data['Entity'] == 'Switzerland']\n",
    "switzerland_data = switzerland_data.rename(columns={'Day': 'ds', 'p_proj_all_ages': 'y'})\n",
    "\n",
    "# Fit the Prophet model\n",
    "model = Prophet()\n",
    "model.fit(switzerland_data)\n",
    "\n",
    "# Create a dataframe for future predictions\n",
    "future = model.make_future_dataframe(periods=365)\n",
    "forecast = model.predict(future)\n",
    "\n",
    "# Plot the forecast\n",
    "fig = model.plot(forecast)\n",
    "plt.title('Forecast for Switzerland P-Scores')\n",
    "plt.show()"
   ]
  },
  {
   "cell_type": "code",
   "execution_count": null,
   "id": "f8c07624",
   "metadata": {},
   "outputs": [],
   "source": []
  }
 ],
 "metadata": {
  "kernelspec": {
   "display_name": "MLG",
   "language": "python",
   "name": "mlg"
  },
  "language_info": {
   "codemirror_mode": {
    "name": "ipython",
    "version": 3
   },
   "file_extension": ".py",
   "mimetype": "text/x-python",
   "name": "python",
   "nbconvert_exporter": "python",
   "pygments_lexer": "ipython3",
   "version": "3.9.7"
  }
 },
 "nbformat": 4,
 "nbformat_minor": 5
}
